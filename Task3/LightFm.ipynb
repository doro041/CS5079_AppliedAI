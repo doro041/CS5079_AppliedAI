{
 "cells": [
  {
   "cell_type": "code",
   "execution_count": 9,
   "metadata": {},
   "outputs": [],
   "source": [
    "import pandas as pd\n",
    "import numpy as np\n",
    "from lightfm import LightFM\n",
    "from lightfm.data import Dataset"
   ]
  },
  {
   "cell_type": "code",
   "execution_count": null,
   "metadata": {},
   "outputs": [],
   "source": [
    "import numpy as np\n",
    "import scipy.sparse as sparse\n",
    "from lightfm import LightFM\n",
    "from sklearn.model_selection import train_test_split\n",
    "\n",
    "\n",
    "\"\"\"\n",
    "SongRecommender class\n",
    "\n",
    "This class is a wrapper around the LightFM model that we will use to train and make recommendations.\n",
    "\n",
    "Methods:\n",
    "-------------\n",
    "__init__(self, learning_rate=0.05, epochs=50, num_components=30, loss='warp')\n",
    "    Initializes the SongRecommender object with the given hyperparameters.\n",
    "\n",
    "create_interaction_matrix(self, user_ids, song_ids, play_counts)\n",
    "    Creates a sparse interaction matrix from the given user, song, and play count data.\n",
    "\n",
    "fit(self, interaction_matrix)\n",
    "    Fits the LightFM model to the given interaction matrix.\n",
    "\n",
    "recommend_songs(self, user_id, n_recommendations=10)\n",
    "    Recommends songs for a given user ID.\n",
    "\"\"\"\n",
    "\n",
    "class SongRecommender:\n",
    "    def __init__(self, learning_rate=0.05, epochs=50, num_components=30, loss='warp'):\n",
    "        self.model = LightFM(learning_rate=learning_rate,\n",
    "                            no_components=num_components,\n",
    "                            loss=loss)\n",
    "        self.epochs = epochs\n",
    "        \n",
    "    def create_interaction_matrix(self, user_ids, song_ids, play_counts):\n",
    "        self.user_mapping = {user: idx for idx, user in enumerate(np.unique(user_ids))}\n",
    "        self.song_mapping = {song: idx for idx, song in enumerate(np.unique(song_ids))}\n",
    "        \n",
    "        mapped_users = [self.user_mapping[user] for user in user_ids]\n",
    "        mapped_songs = [self.song_mapping[song] for song in song_ids]\n",
    "        \n",
    "        n_users = len(self.user_mapping)\n",
    "        n_songs = len(self.song_mapping)\n",
    "        \n",
    "        numeric_play_counts = np.array(play_counts).astype(np.float32)\n",
    "        normalized_counts = np.log1p(numeric_play_counts)\n",
    "        \n",
    "        interaction_matrix = sparse.coo_matrix(\n",
    "            (normalized_counts, (mapped_users, mapped_songs)),\n",
    "            shape=(n_users, n_songs)\n",
    "        )\n",
    "        \n",
    "        return interaction_matrix.tocsr()\n",
    "    \n",
    "    def fit(self, interaction_matrix):\n",
    "        self.model.fit(interaction_matrix,\n",
    "                      epochs=self.epochs,\n",
    "                      num_threads=4,\n",
    "                      verbose=True)\n",
    "        \n",
    "    def recommend_songs(self, user_id, n_recommendations=10):\n",
    "        if user_id not in self.user_mapping:\n",
    "            raise ValueError(\"User ID not found in training data\")\n",
    "            \n",
    "        user_idx = self.user_mapping[user_id]\n",
    "        n_songs = len(self.song_mapping)\n",
    "        \n",
    "        scores = self.model.predict(user_idx, np.arange(n_songs))\n",
    "        \n",
    "        top_song_indices = np.argsort(-scores)[:n_recommendations]\n",
    "        \n",
    "        reverse_mapping = {idx: song for song, idx in self.song_mapping.items()}\n",
    "        recommendations = [reverse_mapping[idx] for idx in top_song_indices]\n",
    "        \n",
    "        return recommendations, scores[top_song_indices]"
   ]
  },
  {
   "cell_type": "code",
   "execution_count": 11,
   "metadata": {},
   "outputs": [],
   "source": [
    "df = pd.read_csv('song_dataset.csv', header=None, \n",
    "                 names=['user_id', 'song_id', 'play_count', 'title', 'album', 'artist', 'year'])\n",
    "\n",
    "df = df[1:]\n"
   ]
  },
  {
   "cell_type": "code",
   "execution_count": 12,
   "metadata": {},
   "outputs": [
    {
     "name": "stderr",
     "output_type": "stream",
     "text": [
      "Epoch: 100%|██████████| 50/50 [00:02<00:00, 22.84it/s]\n"
     ]
    }
   ],
   "source": [
    "# Building the interactions matrix https://making.lyst.com/lightfm/docs/lightfm.data.html\n",
    "# Some play_count values are missing, so we'll fill them with 0\n",
    "# and convert the column to numeric because it's currently a string\n",
    "'''TODO: Decide what we do with string values'''\n",
    "recomender = SongRecommender()\n",
    "\n",
    "interaction_matrix = recomender.create_interaction_matrix(df['user_id'], df['song_id'], df['play_count'])\n",
    "recomender.fit(interaction_matrix)\n",
    "\n",
    "#export the model\n",
    "import pickle\n",
    "model = recomender.model\n",
    "user_mapping = recomender.user_mapping\n",
    "song_mapping = recomender.song_mapping\n",
    "\n",
    "with open('model.pkl', 'wb') as f:\n",
    "    pickle.dump({\n",
    "        'model': model,\n",
    "        'user_mapping': user_mapping,\n",
    "        'song_mapping': song_mapping\n",
    "    }, f)"
   ]
  },
  {
   "cell_type": "code",
   "execution_count": null,
   "metadata": {},
   "outputs": [],
   "source": []
  },
  {
   "cell_type": "code",
   "execution_count": null,
   "metadata": {},
   "outputs": [
    {
     "name": "stdout",
     "output_type": "stream",
     "text": [
      "Recommendations for user b80344d063b5ccb3212f76538f3d9e43d87dca9e\n",
      "1. Chiro with score 0.6081976294517517\n",
      "2. Nothing Gives Me Pleasure with score 0.2901929020881653\n",
      "3. It's The Night Time with score 0.2830503582954407\n",
      "4. Learn To Fly with score 0.2483392059803009\n",
      "5. La Costa Blanca (Album Version) with score 0.20953169465065002\n",
      "6. Silvery Sleds (Album Version) with score 0.19437994062900543\n",
      "7. His Majesty Rides (Album Version) with score 0.1334516853094101\n",
      "8. Soy with score 0.0908401682972908\n",
      "9. Sin límites (I) with score 0.07975905388593674\n",
      "10. It Hasn't Been Long Enough (Album Version) with score 0.03585544973611832\n"
     ]
    }
   ],
   "source": [
    "#TEST\n",
    "USER_INDEX = 1\n",
    "(song_id, score) = recomender.recommend_songs(df['user_id'][USER_INDEX])\n",
    "\n",
    "print(f\"Recommendations for user {df['user_id'][USER_INDEX]}\")\n",
    "for i, song in enumerate(song_id):\n",
    "    #get the song names\n",
    "    print(f\"{i+1}. {df[df['song_id'] == song]['title'].values[0]} with score {score[i]}\")"
   ]
  },
  {
   "cell_type": "code",
   "execution_count": null,
   "metadata": {},
   "outputs": [],
   "source": [
    "#https://stackoverflow.com/questions/68857138/predict-new-user-using-lightfm"
   ]
  }
 ],
 "metadata": {
  "kernelspec": {
   "display_name": "Python 3",
   "language": "python",
   "name": "python3"
  },
  "language_info": {
   "codemirror_mode": {
    "name": "ipython",
    "version": 3
   },
   "file_extension": ".py",
   "mimetype": "text/x-python",
   "name": "python",
   "nbconvert_exporter": "python",
   "pygments_lexer": "ipython3",
   "version": "3.9.6"
  }
 },
 "nbformat": 4,
 "nbformat_minor": 2
}
