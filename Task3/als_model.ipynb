{
 "cells": [
  {
   "cell_type": "code",
   "execution_count": 2,
   "metadata": {},
   "outputs": [
    {
     "name": "stderr",
     "output_type": "stream",
     "text": [
      "100%|██████████| 20/20 [00:04<00:00,  4.73it/s]\n"
     ]
    }
   ],
   "source": [
    "from implicit.als import AlternatingLeastSquares\n",
    "import scipy.sparse as sparse\n",
    "import pandas as pd\n",
    "\n",
    "\n",
    "\n",
    "df = pd.read_csv('song_dataset.csv')\n",
    "\n",
    "# renamed to fit LightFM\n",
    "df.rename(columns={\n",
    "    'user': 'user_id',\n",
    "    'song': 'song_id',\n",
    "    'play_count': 'play_count',\n",
    "    'title': 'title',\n",
    "    'release': 'album',\n",
    "    'artist_name': 'artist',\n",
    "    'year': 'year'\n",
    "}, inplace=True)\n",
    "\n",
    "\n",
    "\n",
    "# changing play count to int format \n",
    "df['play_count'] = pd.to_numeric(df['play_count'], errors='coerce')\n",
    "df['play_count'] = df['play_count'].astype(int)\n",
    "\n",
    "\n",
    "# grouping alike users and songs in int format.\n",
    "df['user_id'] = pd.factorize(df['user_id'])[0]  \n",
    "df['user_id'] = df['user_id'].astype(int)\n",
    "\n",
    "df['song_id'] = pd.factorize(df['song_id'])[0]  \n",
    "df['song_id'] = df['song_id'].astype(int)\n",
    "\n",
    "\n",
    "#print(df['user_id'].nunique(), df['song_id'].nunique())\n",
    "\n",
    "\n",
    "\n",
    "# for recommendation we put data into matrix form\n",
    "user_item_matrix = sparse.coo_matrix((df['play_count'], (df['user_id'], df['song_id']))).tocsr() # has to be csr format for recommendation\n",
    "\n",
    "# Initialize and train the ALS model\n",
    "model = AlternatingLeastSquares(factors=50, regularization=0.01, iterations=20)\n",
    "model.fit(user_item_matrix)\n",
    "\n",
    "\n"
   ]
  },
  {
   "cell_type": "code",
   "execution_count": 3,
   "metadata": {},
   "outputs": [
    {
     "name": "stdout",
     "output_type": "stream",
     "text": [
      "A Beggar On A Beach Of Gold: 0.20915170013904572\n"
     ]
    }
   ],
   "source": [
    "\n",
    "def recommend_songs(user_id, model, user_item_matrix, df, n_songs=1):\n",
    "     # Get recommendations (item IDs and scores)\n",
    "    item_ids, scores = model.recommend(user_id, user_item_matrix[user_id], N=n_songs)\n",
    "    \n",
    "    # Collect song titles and their corresponding scores\n",
    "    songs = []\n",
    "    for item_id, score in zip(item_ids, scores):\n",
    "        song = df[df['song_id'] == item_id]\n",
    "        if not song.empty:\n",
    "            songs.append((song.iloc[0]['title'], score))\n",
    "    return songs\n",
    "\n",
    "\n",
    "\n",
    "recommended_songs = recommend_songs(0, model, user_item_matrix, df)\n",
    "for title, score in recommended_songs:\n",
    "    print(f\"{title}: {score}\")"
   ]
  }
 ],
 "metadata": {
  "kernelspec": {
   "display_name": "env",
   "language": "python",
   "name": "python3"
  },
  "language_info": {
   "codemirror_mode": {
    "name": "ipython",
    "version": 3
   },
   "file_extension": ".py",
   "mimetype": "text/x-python",
   "name": "python",
   "nbconvert_exporter": "python",
   "pygments_lexer": "ipython3",
   "version": "3.11.7"
  }
 },
 "nbformat": 4,
 "nbformat_minor": 2
}
